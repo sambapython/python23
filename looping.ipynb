{
 "cells": [
  {
   "cell_type": "code",
   "execution_count": 1,
   "metadata": {
    "collapsed": false
   },
   "outputs": [
    {
     "name": "stdout",
     "output_type": "stream",
     "text": [
      "1.windows\n",
      "2.linux\n",
      "3.mac\n"
     ]
    }
   ],
   "source": [
    "\"\"\"\n",
    "1.windows\n",
    "2.linux\n",
    "3.mac\n",
    "\"\"\"\n",
    "\n",
    "print \"1.windows\\n2.linux\\n3.mac\""
   ]
  },
  {
   "cell_type": "code",
   "execution_count": 2,
   "metadata": {
    "collapsed": false
   },
   "outputs": [
    {
     "name": "stdout",
     "output_type": "stream",
     "text": [
      "1.windows 2.linux\n"
     ]
    }
   ],
   "source": [
    "print \"1.windows 2.linux\""
   ]
  },
  {
   "cell_type": "code",
   "execution_count": 3,
   "metadata": {
    "collapsed": false
   },
   "outputs": [
    {
     "name": "stdout",
     "output_type": "stream",
     "text": [
      "slkjlskdjglsd\n",
      "aczxcxzczx\n"
     ]
    }
   ],
   "source": [
    "print \"slkjlskdjglsd\"; print \"aczxcxzczx\""
   ]
  },
  {
   "cell_type": "code",
   "execution_count": 4,
   "metadata": {
    "collapsed": false
   },
   "outputs": [
    {
     "name": "stdout",
     "output_type": "stream",
     "text": [
      "afjljfksjkljsfjslfjsdfsalkjkljafklasjflkjslkfjslkfjdlsf\n"
     ]
    }
   ],
   "source": [
    "print \"afjljfksjkljsfjslfjsd\\\n",
    "fsalkjkljafklasjflkjslkfjslkfjdlsf\""
   ]
  },
  {
   "cell_type": "code",
   "execution_count": 5,
   "metadata": {
    "collapsed": false
   },
   "outputs": [
    {
     "name": "stdout",
     "output_type": "stream",
     "text": [
      "1.windows\n",
      "2.linux\n",
      "3.mac\n",
      "enter an option:1\n",
      "1\n"
     ]
    }
   ],
   "source": [
    "\"\"\"\n",
    "1.windows\n",
    "2.linux\n",
    "3.mac\n",
    "\"\"\"\n",
    "\n",
    "print \"1.windows\\n2.linux\\n3.mac\"\n",
    "opt = raw_input(\"enter an option:\")\n",
    "print opt"
   ]
  },
  {
   "cell_type": "code",
   "execution_count": 6,
   "metadata": {
    "collapsed": false
   },
   "outputs": [
    {
     "name": "stdout",
     "output_type": "stream",
     "text": [
      "1.windows\n",
      "2.linux\n",
      "3.mac\n",
      "enter an option:1\n",
      "selected windows\n"
     ]
    }
   ],
   "source": [
    "\"\"\"\n",
    "1.windows\n",
    "2.linux\n",
    "3.mac\n",
    "\"\"\"\n",
    "\n",
    "print \"1.windows\\n2.linux\\n3.mac\"\n",
    "opt = raw_input(\"enter an option:\")\n",
    "if opt ==\"1\":\n",
    "    print \"selected windows\"\n",
    "if opt==\"2\":\n",
    "    print \"selected linux\"\n",
    "if opt == \"3\":\n",
    "    print \"selected mac\""
   ]
  },
  {
   "cell_type": "code",
   "execution_count": 7,
   "metadata": {
    "collapsed": false
   },
   "outputs": [
    {
     "name": "stdout",
     "output_type": "stream",
     "text": [
      "1.windows\n",
      "2.linux\n",
      "3.mac\n",
      "enter an option:2\n",
      "selected linux\n"
     ]
    }
   ],
   "source": [
    "\"\"\"\n",
    "1.windows\n",
    "2.linux\n",
    "3.mac\n",
    "\"\"\"\n",
    "\n",
    "print \"1.windows\\n2.linux\\n3.mac\"\n",
    "opt = raw_input(\"enter an option:\")\n",
    "if opt ==\"1\":\n",
    "    print \"selected windows\"\n",
    "if opt==\"2\":\n",
    "    print \"selected linux\"\n",
    "if opt == \"3\":\n",
    "    print \"selected mac\""
   ]
  },
  {
   "cell_type": "code",
   "execution_count": 8,
   "metadata": {
    "collapsed": false
   },
   "outputs": [
    {
     "name": "stdout",
     "output_type": "stream",
     "text": [
      "1.windows\n",
      "2.linux\n",
      "3.mac\n",
      "enter an option:4\n"
     ]
    }
   ],
   "source": [
    "\"\"\"\n",
    "1.windows\n",
    "2.linux\n",
    "3.mac\n",
    "\"\"\"\n",
    "\n",
    "print \"1.windows\\n2.linux\\n3.mac\"\n",
    "opt = raw_input(\"enter an option:\")\n",
    "if opt ==\"1\":\n",
    "    print \"selected windows\"\n",
    "if opt==\"2\":\n",
    "    print \"selected linux\"\n",
    "if opt == \"3\":\n",
    "    print \"selected mac\""
   ]
  },
  {
   "cell_type": "code",
   "execution_count": 9,
   "metadata": {
    "collapsed": false
   },
   "outputs": [
    {
     "name": "stdout",
     "output_type": "stream",
     "text": [
      "1.windows\n",
      "2.linux\n",
      "3.mac\n",
      "enter an option:2\n",
      "selected linux\n",
      "wrong option selected\n"
     ]
    }
   ],
   "source": [
    "\"\"\"\n",
    "1.windows\n",
    "2.linux\n",
    "3.mac\n",
    "\"\"\"\n",
    "\n",
    "print \"1.windows\\n2.linux\\n3.mac\"\n",
    "opt = raw_input(\"enter an option:\")\n",
    "if opt ==\"1\":\n",
    "    print \"selected windows\"\n",
    "if opt==\"2\":\n",
    "    print \"selected linux\"\n",
    "if opt == \"3\":\n",
    "    print \"selected mac\"\n",
    "else:\n",
    "    print \"wrong option selected\"\n",
    "    "
   ]
  },
  {
   "cell_type": "code",
   "execution_count": 10,
   "metadata": {
    "collapsed": false
   },
   "outputs": [
    {
     "name": "stdout",
     "output_type": "stream",
     "text": [
      "1.windows\n",
      "2.linux\n",
      "3.mac\n",
      "enter an option:2\n",
      "selected linux\n"
     ]
    }
   ],
   "source": [
    "\"\"\"\n",
    "1.windows\n",
    "2.linux\n",
    "3.mac\n",
    "\"\"\"\n",
    "print \"program started\"\n",
    "print \"1.windows\\n2.linux\\n3.mac\"\n",
    "opt = raw_input(\"enter an option:\")\n",
    "if opt ==\"1\":\n",
    "    print \"selected windows\"\n",
    "elif opt==\"2\":\n",
    "    print \"selected linux\"\n",
    "elif opt == \"3\":\n",
    "    print \"selected mac\"\n",
    "else:\n",
    "    print \"wrong option selected\"\n",
    "print \"other statements in program\"\n",
    "print \"program ended\""
   ]
  },
  {
   "cell_type": "code",
   "execution_count": 11,
   "metadata": {
    "collapsed": false
   },
   "outputs": [
    {
     "name": "stdout",
     "output_type": "stream",
     "text": [
      "program started\n",
      "1.windows\n",
      "2.linux\n",
      "3.mac\n",
      "enter an option:2\n",
      "selected linux\n",
      "other statements in program\n",
      "program ended\n"
     ]
    }
   ],
   "source": [
    "\"\"\"\n",
    "1.windows\n",
    "2.linux\n",
    "3.mac\n",
    "\"\"\"\n",
    "print \"program started\"\n",
    "print \"1.windows\\n2.linux\\n3.mac\"\n",
    "opt = raw_input(\"enter an option:\")\n",
    "if opt ==\"1\":\n",
    "    print \"selected windows\"\n",
    "elif opt==\"2\":\n",
    "    print \"selected linux\"\n",
    "elif opt == \"3\":\n",
    "    print \"selected mac\"\n",
    "else:\n",
    "    print \"wrong option selected\"\n",
    "print \"other statements in program\"\n",
    "print \"program ended\""
   ]
  },
  {
   "cell_type": "code",
   "execution_count": 12,
   "metadata": {
    "collapsed": false
   },
   "outputs": [
    {
     "name": "stdout",
     "output_type": "stream",
     "text": [
      "program started\n",
      "1.windows\n",
      "2.linux\n",
      "3.mac\n",
      "enter an option:5\n",
      "wrong option selected\n",
      "other statements in program\n",
      "program ended\n"
     ]
    }
   ],
   "source": [
    "\"\"\"\n",
    "1.windows\n",
    "2.linux\n",
    "3.mac\n",
    "\"\"\"\n",
    "print \"program started\"\n",
    "print \"1.windows\\n2.linux\\n3.mac\"\n",
    "opt = raw_input(\"enter an option:\")\n",
    "if opt ==\"1\":\n",
    "    print \"selected windows\"\n",
    "elif opt==\"2\":\n",
    "    print \"selected linux\"\n",
    "elif opt == \"3\":\n",
    "    print \"selected mac\"\n",
    "else:\n",
    "    print \"wrong option selected\"\n",
    "print \"other statements in program\"\n",
    "print \"program ended\""
   ]
  },
  {
   "cell_type": "code",
   "execution_count": 13,
   "metadata": {
    "collapsed": false
   },
   "outputs": [
    {
     "name": "stdout",
     "output_type": "stream",
     "text": [
      "10<20 is True\n"
     ]
    }
   ],
   "source": [
    "if 10<20:\n",
    "    print \"10<20 is True\""
   ]
  },
  {
   "cell_type": "code",
   "execution_count": 14,
   "metadata": {
    "collapsed": false
   },
   "outputs": [
    {
     "name": "stdout",
     "output_type": "stream",
     "text": [
      "\n"
     ]
    }
   ],
   "source": [
    "# looping statements\n",
    "# while for\n",
    "\"\"\"\n",
    "while condition:\n",
    "      statements of while block\n",
    "\"\"\"\n",
    "print "
   ]
  },
  {
   "cell_type": "code",
   "execution_count": 16,
   "metadata": {
    "collapsed": false
   },
   "outputs": [
    {
     "name": "stdout",
     "output_type": "stream",
     "text": [
      "program started\n",
      "0\n",
      "1\n",
      "2\n",
      "other statements in progrm\n",
      "program ended\n"
     ]
    }
   ],
   "source": [
    "print \"program started\"\n",
    "i=0\n",
    "while i<3:\n",
    "    print i\n",
    "    i=i+1\n",
    "print \"other statements in progrm\"\n",
    "print \"program ended\""
   ]
  },
  {
   "cell_type": "code",
   "execution_count": 17,
   "metadata": {
    "collapsed": false
   },
   "outputs": [
    {
     "name": "stdout",
     "output_type": "stream",
     "text": [
      "program started\n",
      "other statements in progrm\n",
      "program ended\n"
     ]
    }
   ],
   "source": [
    "print \"program started\"\n",
    "i=10\n",
    "while i<3:\n",
    "    print i\n",
    "    i=i+1\n",
    "print \"other statements in progrm\"\n",
    "print \"program ended\""
   ]
  },
  {
   "cell_type": "code",
   "execution_count": 18,
   "metadata": {
    "collapsed": false
   },
   "outputs": [
    {
     "name": "stdout",
     "output_type": "stream",
     "text": [
      "program started\n",
      "p\n",
      "y\n",
      "other statements in progrm\n",
      "program ended\n"
     ]
    }
   ],
   "source": [
    "print \"program started\"\n",
    "for i in \"py\":\n",
    "    print i\n",
    "print \"other statements in progrm\"\n",
    "print \"program ended\""
   ]
  },
  {
   "cell_type": "code",
   "execution_count": 19,
   "metadata": {
    "collapsed": false
   },
   "outputs": [
    {
     "name": "stdout",
     "output_type": "stream",
     "text": [
      "program started\n",
      "p\n",
      "y\n",
      "t\n",
      "h\n",
      "o\n",
      "n\n",
      "other statements in progrm\n",
      "program ended\n"
     ]
    }
   ],
   "source": [
    "print \"program started\"\n",
    "for i in \"python\": # \"python\".next()\n",
    "    print i\n",
    "print \"other statements in progrm\"\n",
    "print \"program ended\""
   ]
  },
  {
   "cell_type": "code",
   "execution_count": 22,
   "metadata": {
    "collapsed": false
   },
   "outputs": [
    {
     "name": "stdout",
     "output_type": "stream",
     "text": [
      "program started\n",
      "python\n",
      "other statements in progrm\n",
      "program ended\n"
     ]
    }
   ],
   "source": [
    "print \"program started\"\n",
    "s1=\"\"\n",
    "for i in \"python\": # \"python\".next()\n",
    "    #print i\n",
    "    s1=s1+i\n",
    "print s1\n",
    "print \"other statements in progrm\"\n",
    "print \"program ended\""
   ]
  },
  {
   "cell_type": "code",
   "execution_count": 23,
   "metadata": {
    "collapsed": false
   },
   "outputs": [
    {
     "name": "stdout",
     "output_type": "stream",
     "text": [
      "program started\n"
     ]
    },
    {
     "ename": "TypeError",
     "evalue": "'int' object is not iterable",
     "output_type": "error",
     "traceback": [
      "\u001b[0;31m---------------------------------------------------------------------------\u001b[0m",
      "\u001b[0;31mTypeError\u001b[0m                                 Traceback (most recent call last)",
      "\u001b[0;32m<ipython-input-23-4780a149af2d>\u001b[0m in \u001b[0;36m<module>\u001b[0;34m()\u001b[0m\n\u001b[1;32m      1\u001b[0m \u001b[1;32mprint\u001b[0m \u001b[1;34m\"program started\"\u001b[0m\u001b[1;33m\u001b[0m\u001b[0m\n\u001b[0;32m----> 2\u001b[0;31m \u001b[1;32mfor\u001b[0m \u001b[0mi\u001b[0m \u001b[1;32min\u001b[0m \u001b[1;36m123456\u001b[0m\u001b[1;33m:\u001b[0m \u001b[1;31m# \"python\".next()\u001b[0m\u001b[1;33m\u001b[0m\u001b[0m\n\u001b[0m\u001b[1;32m      3\u001b[0m     \u001b[1;32mprint\u001b[0m \u001b[0mi\u001b[0m\u001b[1;33m\u001b[0m\u001b[0m\n\u001b[1;32m      4\u001b[0m \u001b[1;32mprint\u001b[0m \u001b[1;34m\"other statements in progrm\"\u001b[0m\u001b[1;33m\u001b[0m\u001b[0m\n\u001b[1;32m      5\u001b[0m \u001b[1;32mprint\u001b[0m \u001b[1;34m\"program ended\"\u001b[0m\u001b[1;33m\u001b[0m\u001b[0m\n",
      "\u001b[0;31mTypeError\u001b[0m: 'int' object is not iterable"
     ]
    }
   ],
   "source": [
    "print \"program started\"\n",
    "for i in 123456: # \"python\".next()\n",
    "    print i\n",
    "print \"other statements in progrm\"\n",
    "print \"program ended\""
   ]
  },
  {
   "cell_type": "code",
   "execution_count": 24,
   "metadata": {
    "collapsed": false
   },
   "outputs": [
    {
     "name": "stdout",
     "output_type": "stream",
     "text": [
      "program started\n"
     ]
    },
    {
     "ename": "TypeError",
     "evalue": "'bool' object is not iterable",
     "output_type": "error",
     "traceback": [
      "\u001b[0;31m---------------------------------------------------------------------------\u001b[0m",
      "\u001b[0;31mTypeError\u001b[0m                                 Traceback (most recent call last)",
      "\u001b[0;32m<ipython-input-24-8c86773126f1>\u001b[0m in \u001b[0;36m<module>\u001b[0;34m()\u001b[0m\n\u001b[1;32m      1\u001b[0m \u001b[1;32mprint\u001b[0m \u001b[1;34m\"program started\"\u001b[0m\u001b[1;33m\u001b[0m\u001b[0m\n\u001b[0;32m----> 2\u001b[0;31m \u001b[1;32mfor\u001b[0m \u001b[0mi\u001b[0m \u001b[1;32min\u001b[0m \u001b[0mTrue\u001b[0m\u001b[1;33m:\u001b[0m \u001b[1;31m# \"python\".next()\u001b[0m\u001b[1;33m\u001b[0m\u001b[0m\n\u001b[0m\u001b[1;32m      3\u001b[0m     \u001b[1;32mprint\u001b[0m \u001b[0mi\u001b[0m\u001b[1;33m\u001b[0m\u001b[0m\n\u001b[1;32m      4\u001b[0m \u001b[1;32mprint\u001b[0m \u001b[1;34m\"other statements in progrm\"\u001b[0m\u001b[1;33m\u001b[0m\u001b[0m\n\u001b[1;32m      5\u001b[0m \u001b[1;32mprint\u001b[0m \u001b[1;34m\"program ended\"\u001b[0m\u001b[1;33m\u001b[0m\u001b[0m\n",
      "\u001b[0;31mTypeError\u001b[0m: 'bool' object is not iterable"
     ]
    }
   ],
   "source": [
    "print \"program started\"\n",
    "for i in True: # \"python\".next()\n",
    "    print i\n",
    "print \"other statements in progrm\"\n",
    "print \"program ended\""
   ]
  },
  {
   "cell_type": "code",
   "execution_count": 25,
   "metadata": {
    "collapsed": true
   },
   "outputs": [],
   "source": [
    "b=True"
   ]
  },
  {
   "cell_type": "code",
   "execution_count": 26,
   "metadata": {
    "collapsed": false
   },
   "outputs": [
    {
     "name": "stdout",
     "output_type": "stream",
     "text": [
      "<type 'bool'>\n"
     ]
    }
   ],
   "source": [
    "print type(b)"
   ]
  },
  {
   "cell_type": "code",
   "execution_count": 27,
   "metadata": {
    "collapsed": true
   },
   "outputs": [],
   "source": [
    "# looping control statements break continue"
   ]
  },
  {
   "cell_type": "code",
   "execution_count": 28,
   "metadata": {
    "collapsed": false
   },
   "outputs": [
    {
     "data": {
      "text/plain": [
       "True"
      ]
     },
     "execution_count": 28,
     "metadata": {},
     "output_type": "execute_result"
    }
   ],
   "source": [
    "bool(True)"
   ]
  },
  {
   "cell_type": "code",
   "execution_count": 29,
   "metadata": {
    "collapsed": false
   },
   "outputs": [
    {
     "data": {
      "text/plain": [
       "True"
      ]
     },
     "execution_count": 29,
     "metadata": {},
     "output_type": "execute_result"
    }
   ],
   "source": [
    "bool(1)"
   ]
  },
  {
   "cell_type": "code",
   "execution_count": 30,
   "metadata": {
    "collapsed": false
   },
   "outputs": [
    {
     "name": "stdout",
     "output_type": "stream",
     "text": [
      "1 is true\n"
     ]
    }
   ],
   "source": [
    "if 1:\n",
    "    print \"1 is true\""
   ]
  },
  {
   "cell_type": "code",
   "execution_count": 32,
   "metadata": {
    "collapsed": false
   },
   "outputs": [
    {
     "name": "stdout",
     "output_type": "stream",
     "text": [
      "True is True\n"
     ]
    }
   ],
   "source": [
    "if True:\n",
    "    print \"True is True\""
   ]
  },
  {
   "cell_type": "code",
   "execution_count": 33,
   "metadata": {
    "collapsed": false
   },
   "outputs": [
    {
     "name": "stdout",
     "output_type": "stream",
     "text": [
      "program started\n",
      "p\n",
      "y\n",
      "t\n",
      "h\n",
      "o\n",
      "n\n",
      " \n",
      "p\n",
      "r\n",
      "o\n",
      "g\n",
      "r\n",
      "a\n",
      "m\n",
      "other statements in progrm\n",
      "program ended\n"
     ]
    }
   ],
   "source": [
    "# looping control statements break continue\n",
    "print \"program started\"\n",
    "for i in \"python program\": # \"python\".next()\n",
    "    print i\n",
    "print \"other statements in progrm\"\n",
    "print \"program ended\""
   ]
  },
  {
   "cell_type": "code",
   "execution_count": 34,
   "metadata": {
    "collapsed": false
   },
   "outputs": [
    {
     "name": "stdout",
     "output_type": "stream",
     "text": [
      "program started\n",
      "iteration started\n",
      "p\n",
      "iteration ended\n",
      "iteration started\n",
      "y\n",
      "iteration ended\n",
      "iteration started\n",
      "t\n",
      "iteration ended\n",
      "iteration started\n",
      "h\n",
      "iteration ended\n",
      "iteration started\n",
      "o\n",
      "iteration ended\n",
      "iteration started\n",
      "n\n",
      "iteration ended\n",
      "iteration started\n",
      " \n",
      "iteration ended\n",
      "iteration started\n",
      "p\n",
      "iteration ended\n",
      "iteration started\n",
      "r\n",
      "iteration ended\n",
      "iteration started\n",
      "o\n",
      "iteration ended\n",
      "iteration started\n",
      "g\n",
      "iteration ended\n",
      "iteration started\n",
      "r\n",
      "iteration ended\n",
      "iteration started\n",
      "a\n",
      "iteration ended\n",
      "iteration started\n",
      "m\n",
      "iteration ended\n",
      "other statements in progrm\n",
      "program ended\n"
     ]
    }
   ],
   "source": [
    "# looping control statements break continue\n",
    "print \"program started\"\n",
    "for i in \"python program\":\n",
    "    print \"iteration started\"\n",
    "    print i\n",
    "    print \"iteration ended\"\n",
    "print \"other statements in progrm\"\n",
    "print \"program ended\""
   ]
  },
  {
   "cell_type": "code",
   "execution_count": 35,
   "metadata": {
    "collapsed": false
   },
   "outputs": [
    {
     "name": "stdout",
     "output_type": "stream",
     "text": [
      "program started\n",
      "iteration started\n",
      "p\n",
      "iteration ended\n",
      "iteration started\n",
      "y\n",
      "iteration ended\n",
      "iteration started\n",
      "other statements in progrm\n",
      "program ended\n"
     ]
    }
   ],
   "source": [
    "# looping control statements break continue\n",
    "print \"program started\"\n",
    "for i in \"python program\":\n",
    "    print \"iteration started\"\n",
    "    if i==\"t\":\n",
    "        break\n",
    "    print i\n",
    "    print \"iteration ended\"\n",
    "print \"other statements in progrm\"\n",
    "print \"program ended\""
   ]
  },
  {
   "cell_type": "code",
   "execution_count": 36,
   "metadata": {
    "collapsed": false
   },
   "outputs": [
    {
     "name": "stdout",
     "output_type": "stream",
     "text": [
      "program started\n",
      "p\n",
      "other statements in progrm\n",
      "program ended\n"
     ]
    }
   ],
   "source": [
    "# looping control statements break continue\n",
    "print \"program started\"\n",
    "for i in \"python program\":\n",
    "    break\n",
    "print i\n",
    "print \"other statements in progrm\"\n",
    "print \"program ended\""
   ]
  },
  {
   "cell_type": "code",
   "execution_count": 37,
   "metadata": {
    "collapsed": false
   },
   "outputs": [
    {
     "name": "stdout",
     "output_type": "stream",
     "text": [
      "program started\n",
      "n\n",
      "other statements in progrm\n",
      "program ended\n"
     ]
    }
   ],
   "source": [
    "# looping control statements break continue\n",
    "print \"program started\"\n",
    "for i in \"python program\":\n",
    "    if i==\"n\":\n",
    "        break\n",
    "print i\n",
    "print \"other statements in progrm\"\n",
    "print \"program ended\""
   ]
  },
  {
   "cell_type": "code",
   "execution_count": 38,
   "metadata": {
    "collapsed": false
   },
   "outputs": [
    {
     "name": "stdout",
     "output_type": "stream",
     "text": [
      "program started\n",
      "iteration started\n",
      "p\n",
      "iteration ended\n",
      "iteration started\n",
      "y\n",
      "iteration ended\n",
      "iteration started\n",
      "iteration started\n",
      "h\n",
      "iteration ended\n",
      "other statements in progrm\n",
      "program ended\n"
     ]
    }
   ],
   "source": [
    "# continue\n",
    "# looping control statements break continue\n",
    "print \"program started\"\n",
    "for i in \"pyth\":\n",
    "    print \"iteration started\"\n",
    "    if i==\"t\":\n",
    "        continue\n",
    "    print i\n",
    "    print \"iteration ended\"\n",
    "print \"other statements in progrm\"\n",
    "print \"program ended\""
   ]
  },
  {
   "cell_type": "code",
   "execution_count": 39,
   "metadata": {
    "collapsed": false
   },
   "outputs": [
    {
     "name": "stdout",
     "output_type": "stream",
     "text": [
      "program started\n",
      "1.windows\n",
      "2.linux\n",
      "3.mac\n",
      "4.quit\n",
      "enter an option:2\n",
      "selected linux\n",
      "other statements in program\n",
      "program ended\n"
     ]
    }
   ],
   "source": [
    "\"\"\"\n",
    "1.windows\n",
    "2.linux\n",
    "3.mac\n",
    "\"\"\"\n",
    "print \"program started\"\n",
    "print \"1.windows\\n2.linux\\n3.mac\\n4.quit\"\n",
    "opt = raw_input(\"enter an option:\")\n",
    "if opt ==\"1\":\n",
    "    print \"selected windows\"\n",
    "elif opt==\"2\":\n",
    "    print \"selected linux\"\n",
    "elif opt == \"3\":\n",
    "    print \"selected mac\"\n",
    "else:\n",
    "    print \"wrong option selected\"\n",
    "print \"other statements in program\"\n",
    "print \"program ended\""
   ]
  },
  {
   "cell_type": "code",
   "execution_count": null,
   "metadata": {
    "collapsed": true
   },
   "outputs": [],
   "source": []
  }
 ],
 "metadata": {
  "anaconda-cloud": {},
  "kernelspec": {
   "display_name": "Python [default]",
   "language": "python",
   "name": "python2"
  },
  "language_info": {
   "codemirror_mode": {
    "name": "ipython",
    "version": 2
   },
   "file_extension": ".py",
   "mimetype": "text/x-python",
   "name": "python",
   "nbconvert_exporter": "python",
   "pygments_lexer": "ipython2",
   "version": "2.7.12"
  }
 },
 "nbformat": 4,
 "nbformat_minor": 1
}
